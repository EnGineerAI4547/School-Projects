{
  "nbformat": 4,
  "nbformat_minor": 0,
  "metadata": {
    "colab": {
      "provenance": [],
      "authorship_tag": "ABX9TyOuTYAxJ8RZ0VmAfhsWVXms",
      "include_colab_link": true
    },
    "kernelspec": {
      "name": "python3",
      "display_name": "Python 3"
    },
    "language_info": {
      "name": "python"
    }
  },
  "cells": [
    {
      "cell_type": "markdown",
      "metadata": {
        "id": "view-in-github",
        "colab_type": "text"
      },
      "source": [
        "<a href=\"https://colab.research.google.com/github/EnGineerAI4547/School_Projects/blob/main/Eric_Gonzalez_assignment2_cap5768.ipynb\" target=\"_parent\"><img src=\"https://colab.research.google.com/assets/colab-badge.svg\" alt=\"Open In Colab\"/></a>"
      ]
    },
    {
      "cell_type": "markdown",
      "source": [
        "**Assignment 2**\n",
        "\n",
        "**Eric Gonzalez**\n",
        "\n",
        "**CAP 5768**\n",
        "\n",
        "\n",
        "\n"
      ],
      "metadata": {
        "id": "QDaAj1-zTv3X"
      }
    },
    {
      "cell_type": "markdown",
      "source": [
        "**Q1. Why do we use extend function in Python? Can we use extend function with set and tuple?**\n",
        "\n",
        "\n",
        "\n",
        "\n",
        "*   *We use the extend function in pyton to quickly add elements or entire lists to another list*.\n",
        "*   *We can use the extend function with sets although with the caveat that you will only add unique elements to the set as that is one of the properties of a set.*\n",
        "*   *In regards to tuples, extend python function cannot be used because tuples are immutable.*\n",
        "\n",
        "\n",
        "\n",
        "\n",
        "\n",
        "\n",
        "\n",
        "\n",
        "\n"
      ],
      "metadata": {
        "id": "6UMP_3GH79OX"
      }
    },
    {
      "cell_type": "markdown",
      "source": [
        "**Q2. What is the difference between insert and append methods in Python?**\n",
        "\n",
        "\n",
        "\n",
        "*   *the difference between insert and append methods in python are append always adds elements to the end of the iterable whereas insert requires an index and will insert the element according to the index given. Only if no index is given will the insert method add the element to the last index of the iterable.*  \n",
        "\n",
        "\n",
        "\n",
        "\n",
        "\n"
      ],
      "metadata": {
        "id": "z-PVbZBA8rh_"
      }
    },
    {
      "cell_type": "markdown",
      "source": [
        "Q3. What is the difference between view and copy functions?"
      ],
      "metadata": {
        "id": "OwBqxI308ugi"
      }
    },
    {
      "cell_type": "markdown",
      "source": [
        "Q4. Why do we use stack and how hstack is different from vstack?"
      ],
      "metadata": {
        "id": "9QHg8dki8vDZ"
      }
    },
    {
      "cell_type": "markdown",
      "source": [
        "Q5. Read the data.csv using numpy.\n"
      ],
      "metadata": {
        "id": "uTHjf-Pq8xBB"
      }
    },
    {
      "cell_type": "markdown",
      "source": [],
      "metadata": {
        "id": "FM8yNpCA927m"
      }
    }
  ]
}