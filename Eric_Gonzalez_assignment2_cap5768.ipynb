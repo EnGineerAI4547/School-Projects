{
  "nbformat": 4,
  "nbformat_minor": 0,
  "metadata": {
    "colab": {
      "provenance": [],
      "authorship_tag": "ABX9TyMzGYZfwl0uxqSYZFnDpI1Y",
      "include_colab_link": true
    },
    "kernelspec": {
      "name": "python3",
      "display_name": "Python 3"
    },
    "language_info": {
      "name": "python"
    }
  },
  "cells": [
    {
      "cell_type": "markdown",
      "metadata": {
        "id": "view-in-github",
        "colab_type": "text"
      },
      "source": [
        "<a href=\"https://colab.research.google.com/github/EnGineerAI4547/School_Projects/blob/main/Eric_Gonzalez_assignment2_cap5768.ipynb\" target=\"_parent\"><img src=\"https://colab.research.google.com/assets/colab-badge.svg\" alt=\"Open In Colab\"/></a>"
      ]
    },
    {
      "cell_type": "markdown",
      "source": [
        "**Assignment 2**\n",
        "\n",
        "**Eric Gonzalez**\n",
        "\n",
        "**CAP 5768**\n",
        "\n",
        "\n",
        "\n"
      ],
      "metadata": {
        "id": "QDaAj1-zTv3X"
      }
    },
    {
      "cell_type": "markdown",
      "source": [
        "**Q1. Why do we use extend function in Python? Can we use extend function with set and tuple?**\n",
        "\n",
        "\n",
        "\n",
        "\n",
        "*   *We use the extend function in pyton to quickly add elements or entire lists to another list*.\n",
        "*   *We can use the extend function with sets although with the caveat that you will only add unique elements to the set as that is one of the properties of a set.*\n",
        "*   *In regards to tuples, extend python function cannot be used because tuples are immutable.*\n",
        "\n",
        "\n",
        "\n",
        "\n",
        "\n",
        "\n",
        "\n",
        "\n",
        "\n"
      ],
      "metadata": {
        "id": "6UMP_3GH79OX"
      }
    },
    {
      "cell_type": "markdown",
      "source": [
        "**Q2. What is the difference between insert and append methods in Python?**\n",
        "\n",
        "\n",
        "\n",
        "*   *the difference between insert and append methods in python are append always adds elements to the end of the iterable whereas insert requires an index and will insert the element according to the index given. Only if no index is given will the insert method add the element to the last index of the iterable.*  \n",
        "\n",
        "\n",
        "\n",
        "\n",
        "\n"
      ],
      "metadata": {
        "id": "z-PVbZBA8rh_"
      }
    },
    {
      "cell_type": "markdown",
      "source": [
        "**Q3. What is the difference between view and copy functions?**\n",
        "\n",
        "\n",
        "\n",
        "*   *The difference between the view and copy functions is that a function created using the view function references the original object's data buffer while the object created using copy function references a copy of the data housed in it's own data buffer. Thus with the view any changes made to the original or to the view will change the other since the changes are made to the source which is the pointed to data buffer. This is different with the copy function which when changed will not change the original data at all.*  \n",
        "\n",
        "\n"
      ],
      "metadata": {
        "id": "OwBqxI308ugi"
      }
    },
    {
      "cell_type": "markdown",
      "source": [
        "**Q4. Why do we use stack and how hstack is different from vstack?**\n",
        "\n",
        "\n",
        "\n",
        "*   *We use stack function to combine two or more arrays along a new axis. And hstack and vstack differ in which axis they stack or combine the data along. In an array there is a vertical and horizontal axis. The hstack function stacks arrays along the horizontal axis and vstack along the vertical axis.*\n",
        "\n",
        "\n"
      ],
      "metadata": {
        "id": "9QHg8dki8vDZ"
      }
    },
    {
      "cell_type": "code",
      "source": [
        "import numpy as np\n",
        "\n",
        "arr1 = np.array([1, 2, 3])\n",
        "arr2 = np.array([4, 5, 6])\n",
        "\n",
        "stacked_1 = np.hstack([arr1, arr2])\n",
        "\n",
        "print(f\"Hstack = {stacked_1}\")\n",
        "\n",
        "\n",
        "arr3 = np.array([7, 8, 9])\n",
        "arr4 = np.array([10, 11, 12])\n",
        "\n",
        "stacked_2 = np.vstack([arr3, arr4])\n",
        "\n",
        "print(f\"Vstack = {stacked_2}\")"
      ],
      "metadata": {
        "colab": {
          "base_uri": "https://localhost:8080/"
        },
        "id": "rq5UkQo2g_zC",
        "outputId": "6455f1ac-078a-4e3f-f620-91498eaffaf9"
      },
      "execution_count": 3,
      "outputs": [
        {
          "output_type": "stream",
          "name": "stdout",
          "text": [
            "Hstack = [1 2 3 4 5 6]\n",
            "Vstack = [[ 7  8  9]\n",
            " [10 11 12]]\n"
          ]
        }
      ]
    },
    {
      "cell_type": "markdown",
      "source": [
        "**Q5. Read the data.csv using numpy.**\n"
      ],
      "metadata": {
        "id": "uTHjf-Pq8xBB"
      }
    },
    {
      "cell_type": "code",
      "source": [
        "import numpy as np\n",
        "\n",
        "\n",
        "data=np.genfromtxt(\"data.csv\",delimiter=\",\", names=True, dtype=None, encoding='utf-8')\n",
        "\n",
        "print(data)\n",
        "column_names = data.dtype.names\n",
        "print(\"------------------------------------------------------------------------\\n\")\n",
        "print(f\"\\nColumn names= {column_names}\")\n"
      ],
      "metadata": {
        "colab": {
          "base_uri": "https://localhost:8080/"
        },
        "id": "yoU42eM7hres",
        "outputId": "3c09886e-3922-4f74-ee0d-9c625cdd2541"
      },
      "execution_count": 18,
      "outputs": [
        {
          "output_type": "stream",
          "name": "stdout",
          "text": [
            "[( 60, 110, 130,  409.1) ( 60, 117, 145,  479. ) ( 60, 103, 135,  340. )\n",
            " ( 45, 109, 175,  282.4) ( 45, 117, 148,  406. ) ( 60, 102, 127,  300. )\n",
            " ( 60, 110, 136,  374. ) ( 45, 104, 134,  253.3) ( 30, 109, 133,  195.1)\n",
            " ( 60,  98, 124,  269. ) ( 60, 103, 147,  329.3) ( 60, 100, 120,  250.7)\n",
            " ( 60, 106, 128,  345.3) ( 60, 104, 132,  379.3) ( 60,  98, 123,  275. )\n",
            " ( 60,  98, 120,  215.2) ( 60, 100, 120,  300. ) ( 45,  90, 112,    nan)\n",
            " ( 60, 103, 123,  323. ) ( 45,  97, 125,  243. ) ( 60, 108, 131,  364.2)\n",
            " ( 45,  -1, 119,  282. ) ( 60, 130, 101,  300. ) ( 45, 105, 132,  246. )\n",
            " ( 60, 102, 126,  334.5) ( 60, 100, 120,  250. ) ( 60,  92, 118,  241. )\n",
            " ( 60, 103, 132,    nan) ( 60, 100, 132,  280. ) ( 60, 102, 129,  380.3)\n",
            " ( 60,  92, 115,  243. ) ( 45,  90, 112,  180.1) ( 60, 101, 124,  299. )\n",
            " ( 60,  93, 113,  223. ) ( 60, 107, 136,  361. ) ( 60, 114, 140,  415. )\n",
            " ( 60, 102, 127,  300. ) ( 60, 100, 120,  300. ) ( 60, 100, 120,  300. )\n",
            " ( 45, 104, 129,  266. ) ( 45,  90, 112,  180.1) ( 60,  -1, 126,  286. )\n",
            " ( 60, 100, 122,  329.4) ( 60, 111, 138,  400. ) ( 60, 111, 131,  397. )\n",
            " ( 60,  99, 119,  273. ) ( 60, 109, 153,  387.6) ( 45, 111, 136,  300. )\n",
            " ( 45, 108, 129,  298. ) ( 60, 111, 139,  397.6) ( 60, 107, 136,  380.2)\n",
            " ( 80, 123, 146,  643.1) ( 60, 106, 130,  263. ) ( 60, 118, 151,  486. )\n",
            " ( 30, 136, 175,  238. ) ( 60, 121, 146,  450.7) ( 60, 118, 121,  413. )\n",
            " ( 45, 115, 144,  305. ) ( 20, 153, 172,  226.4) ( 45, 123, 152,  321. )\n",
            " (210, 108, 160, 1376. ) (160, 110, 137, 1034.4) (160, 109, 135,  853. )\n",
            " ( 45, 118, 141,  341. ) ( 20, 110, 130,  131.4) (180,  90, 130,  800.4)\n",
            " (150, 105, 135,  873.4) (150, 107, 130,  816. ) ( 20, 106, 136,  110.4)\n",
            " (300, 108, 143, 1500.2) (150,  97, 129, 1115. ) ( 60, 109, 153,  387.6)\n",
            " ( 90, 100, 127,  700. ) (150,  97,  -1,  953.2) ( 45, 114, 146,  304. )\n",
            " ( 90,  98, 125,  563.2) ( 45, 105, 134,  251. ) ( 45, 110, 141,  300. )\n",
            " (120, 100, 130,  500.4) (270, 100, 131, 1729. ) ( 30, 159, 182,  319.2)\n",
            " ( 45,  -1, 169,  344. ) ( 30, 103, 139,  151.1) (120, 100, 130,  500. )\n",
            " ( 45, 100, 120,  225.3) ( 30, 151, 170,  300. ) ( 45, 102, 136,  234. )\n",
            " (120, 100, 157, 1000.1) ( 45, 129,  -1,  242. ) ( 20,  83, 107,   50.3)\n",
            " (180, 101, 127,  600.1) ( 45, 107, 137,    nan) ( 30,  90, 107,  105.3)\n",
            " ( 15,  80, 100,   50.5) ( 20, 150, 171,  127.4) ( 20, 151, 168,  229.4)\n",
            " ( 30,  95, 128,  128.2) ( 25, 152, 168,  244.2) ( 30, 109, 131,  188.2)\n",
            " ( 90,  93, 124,  604.1) ( 20,  95, 112,   77.7) ( 90,  90, 110,  500. )\n",
            " ( 90,  90, 100,  500. ) ( 90,  90, 100,  500.4) ( 30,  92, 108,   92.7)\n",
            " ( 30,  93, 128,  124. ) (180,  90, 120,  800.3) ( 30,  90, 120,   86.2)\n",
            " ( 90,  90, 120,  500.3) (210, 137, 184, 1860.4) ( 60, 102, 124,  325.2)\n",
            " ( 45, 107, 124,  275. ) ( 15, 124, 139,  124.2) ( 45, 100, 120,  225.3)\n",
            " ( 60, 108, 131,  367.6) ( 60, 108, 151,  351.7) ( 60, 116, 141,  443. )\n",
            " ( 60,  97, 122,  277.4) ( 60, 105, 125,    nan) ( 60, 103, 124,  332.7)\n",
            " ( 30, 112, 137,  193.9) ( 45,  -1, 120,  100.7) ( 60, 119, 169,  336.7)\n",
            " ( 60, 107, 127,  344.9) ( 60, 111, 151,  368.5) ( 60,  98, 122,  271. )\n",
            " ( 60,  97, 124,  275.3) ( 60, 109, 127,  382. ) ( 90,  99, 125,  466.4)\n",
            " ( 60, 114, 151,  384. ) ( 60, 104, 134,  342.5) ( 60, 107, 138,  357.5)\n",
            " ( 60, 103, 133,  335. ) ( 60, 106, 132,  327.5) ( 60, 103,  -1,  339. )\n",
            " ( 20, 136, 156,  189. ) ( 45, 117, 143,  317.7) ( 45, 115, 137,  318. )\n",
            " ( 45, 113, 138,  308. ) ( 20, 141, 162,  222.4) ( 60, 108, 135,  390. )\n",
            " ( 60,  97, 127,    nan) ( 45, 100, 120,  250.4) ( 45, 122, 149,  335.4)\n",
            " ( 60, 136, 170,  470.2) ( 45, 106, 126,  270.8) ( 60, 107, 136,  400. )\n",
            " ( 60, 112, 146,  361.9) ( 30, 103, 127,  185. ) ( 60, 110, 150,  409.4)\n",
            " ( 60, 106, 134,  343. ) ( 60, 109, 129,  353.2) ( 60, 109, 138,  374. )\n",
            " ( 30, 150, 167,  275.8) ( 60,  -1, 128,  328. ) ( 60, 111, 151,  368.5)\n",
            " ( 60,  97, 131,  270.4) ( 60, 100, 120,  270.4) ( 60, 114, 150,  382.8)\n",
            " ( 30,  80, 120,  240.9) ( 30,  85, 120,  250.4) ( 45,  90, 130,  260.4)\n",
            " ( 45,  95,  -1,  270. ) ( 45, 100, 140,  280.9) ( 60, 105, 140,  290.8)\n",
            " ( 60, 110, 145,  300. ) ( 60, 115, 145,  310.2) ( 75, 120, 150,  320.4)\n",
            " ( 75, 125, 150,  330.4)]\n",
            "------------------------------------------------------------------------\n",
            "\n",
            "\n",
            "Column names= ('Duration', 'Pulse', 'Maxpulse', 'Calories')\n"
          ]
        }
      ]
    },
    {
      "cell_type": "markdown",
      "source": [
        "**Q6: Create a numpy array by selecting a pulse column from the dataset and naming it \"Pulse.\"**\n"
      ],
      "metadata": {
        "id": "FM8yNpCA927m"
      }
    },
    {
      "cell_type": "code",
      "source": [
        "pulse_data=data[\"Pulse\"]\n",
        "\n",
        "print(f\"This is the pulse data: {pulse_data}\")"
      ],
      "metadata": {
        "colab": {
          "base_uri": "https://localhost:8080/"
        },
        "id": "7AOpNav3madW",
        "outputId": "0921ea32-06f5-4c46-851e-b0a3eb6d6a24"
      },
      "execution_count": 19,
      "outputs": [
        {
          "output_type": "stream",
          "name": "stdout",
          "text": [
            "This is the pulse data: [110 117 103 109 117 102 110 104 109  98 103 100 106 104  98  98 100  90\n",
            " 103  97 108  -1 130 105 102 100  92 103 100 102  92  90 101  93 107 114\n",
            " 102 100 100 104  90  -1 100 111 111  99 109 111 108 111 107 123 106 118\n",
            " 136 121 118 115 153 123 108 110 109 118 110  90 105 107 106 108  97 109\n",
            " 100  97 114  98 105 110 100 100 159  -1 103 100 100 151 102 100 129  83\n",
            " 101 107  90  80 150 151  95 152 109  93  95  90  90  90  92  93  90  90\n",
            "  90 137 102 107 124 100 108 108 116  97 105 103 112  -1 119 107 111  98\n",
            "  97 109  99 114 104 107 103 106 103 136 117 115 113 141 108  97 100 122\n",
            " 136 106 107 112 103 110 106 109 109 150  -1 111  97 100 114  80  85  90\n",
            "  95 100 105 110 115 120 125]\n"
          ]
        }
      ]
    },
    {
      "cell_type": "markdown",
      "source": [
        "**Q7: Create a numpy array by selecting the Maxpulse column from the dataset and naming it \"MaxPulse.\"**"
      ],
      "metadata": {
        "id": "YkcW9oF5xF3D"
      }
    },
    {
      "cell_type": "code",
      "source": [
        "maxpulse_data=data[\"Maxpulse\"]\n",
        "\n",
        "print(f\"This is the pulse data: {maxpulse_data}\")"
      ],
      "metadata": {
        "colab": {
          "base_uri": "https://localhost:8080/"
        },
        "id": "5OgefOZoxOWS",
        "outputId": "479ffc50-4b06-4ba0-885c-b035ecb5e90b"
      },
      "execution_count": 20,
      "outputs": [
        {
          "output_type": "stream",
          "name": "stdout",
          "text": [
            "This is the pulse data: [130 145 135 175 148 127 136 134 133 124 147 120 128 132 123 120 120 112\n",
            " 123 125 131 119 101 132 126 120 118 132 132 129 115 112 124 113 136 140\n",
            " 127 120 120 129 112 126 122 138 131 119 153 136 129 139 136 146 130 151\n",
            " 175 146 121 144 172 152 160 137 135 141 130 130 135 130 136 143 129 153\n",
            " 127  -1 146 125 134 141 130 131 182 169 139 130 120 170 136 157  -1 107\n",
            " 127 137 107 100 171 168 128 168 131 124 112 110 100 100 108 128 120 120\n",
            " 120 184 124 124 139 120 131 151 141 122 125 124 137 120 169 127 151 122\n",
            " 124 127 125 151 134 138 133 132  -1 156 143 137 138 162 135 127 120 149\n",
            " 170 126 136 146 127 150 134 129 138 167 128 151 131 120 150 120 120 130\n",
            "  -1 140 140 145 145 150 150]\n"
          ]
        }
      ]
    },
    {
      "cell_type": "markdown",
      "source": [
        "**Q8: Add Pulse and MaxPulsey using np.sum() and np.add().**"
      ],
      "metadata": {
        "id": "fW-cc49Wxaq8"
      }
    },
    {
      "cell_type": "code",
      "source": [
        "\n",
        "\n",
        "# Method 1: Using np.sum()\n",
        "sum_pulse_maxpulse = np.sum([data['Pulse'], data['Maxpulse']], axis=0)\n",
        "\n",
        "print(f\"This is the numpy sum of Maxpulse and Pulse= {sum_pulse_maxpulse}\")\n",
        "\n",
        "# Method 2: Using np.add()\n",
        "add_pulse_maxpulse = np.add(data['Pulse'], data['Maxpulse'])\n",
        "\n",
        "print(f\"This is the numpy addition of Maxpulse and Pulse= {add_pulse_maxpulse}\")"
      ],
      "metadata": {
        "colab": {
          "base_uri": "https://localhost:8080/"
        },
        "id": "qYuohiFVxrcy",
        "outputId": "5e07b15e-e63e-4715-95b8-e471314a7b19"
      },
      "execution_count": 24,
      "outputs": [
        {
          "output_type": "stream",
          "name": "stdout",
          "text": [
            "This is the numpy sum of Maxpulse and Pulse= [240 262 238 284 265 229 246 238 242 222 250 220 234 236 221 218 220 202\n",
            " 226 222 239 118 231 237 228 220 210 235 232 231 207 202 225 206 243 254\n",
            " 229 220 220 233 202 125 222 249 242 218 262 247 237 250 243 269 236 269\n",
            " 311 267 239 259 325 275 268 247 244 259 240 220 240 237 242 251 226 262\n",
            " 227  96 260 223 239 251 230 231 341 168 242 230 220 321 238 257 128 190\n",
            " 228 244 197 180 321 319 223 320 240 217 207 200 190 190 200 221 210 210\n",
            " 210 321 226 231 263 220 239 259 257 219 230 227 249 119 288 234 262 220\n",
            " 221 236 224 265 238 245 236 238 102 292 260 252 251 303 243 224 220 271\n",
            " 306 232 243 258 230 260 240 238 247 317 127 262 228 220 264 200 205 220\n",
            "  94 240 245 255 260 270 275]\n",
            "This is the numpy addition of Maxpulse and Pulse= [240 262 238 284 265 229 246 238 242 222 250 220 234 236 221 218 220 202\n",
            " 226 222 239 118 231 237 228 220 210 235 232 231 207 202 225 206 243 254\n",
            " 229 220 220 233 202 125 222 249 242 218 262 247 237 250 243 269 236 269\n",
            " 311 267 239 259 325 275 268 247 244 259 240 220 240 237 242 251 226 262\n",
            " 227  96 260 223 239 251 230 231 341 168 242 230 220 321 238 257 128 190\n",
            " 228 244 197 180 321 319 223 320 240 217 207 200 190 190 200 221 210 210\n",
            " 210 321 226 231 263 220 239 259 257 219 230 227 249 119 288 234 262 220\n",
            " 221 236 224 265 238 245 236 238 102 292 260 252 251 303 243 224 220 271\n",
            " 306 232 243 258 230 260 240 238 247 317 127 262 228 220 264 200 205 220\n",
            "  94 240 245 255 260 270 275]\n"
          ]
        }
      ]
    },
    {
      "cell_type": "markdown",
      "source": [
        "**Question 8 continued: What is the difference between summation and addition?**\n",
        "\n",
        "\n",
        "\n",
        "*   *As you can see there is no difference in the results or sums of the two arrays although the process by which the additions happen do differ. The main difference is that the np.sum() function is typically used for summing elements on a given axis while np.add() is used for summing entire arrays in an element by element fashion.*  \n",
        "\n",
        "\n"
      ],
      "metadata": {
        "id": "T-LcMPiVylyY"
      }
    },
    {
      "cell_type": "markdown",
      "source": [
        "**Q9: Find and print all the indexes where Pulse = 100.**"
      ],
      "metadata": {
        "id": "_m8WvaQG0AI_"
      }
    },
    {
      "cell_type": "code",
      "source": [
        "\n",
        "indexes_100=np.where(data[\"Pulse\"]==100)\n",
        "print(indexes_100)"
      ],
      "metadata": {
        "colab": {
          "base_uri": "https://localhost:8080/"
        },
        "id": "yB5pcMeI0IsB",
        "outputId": "347c1ad2-68c8-4f7f-f768-c4075c3fef91"
      },
      "execution_count": 29,
      "outputs": [
        {
          "output_type": "stream",
          "name": "stdout",
          "text": [
            "(array([ 11,  16,  25,  28,  37,  38,  42,  72,  78,  79,  83,  84,  87,\n",
            "       113, 142, 157, 163]),)\n"
          ]
        }
      ]
    },
    {
      "cell_type": "markdown",
      "source": [
        "**Q10: Filter rows where Pulse is greater than 130 and Calories are greater than 400**."
      ],
      "metadata": {
        "id": "woEn0OMC5rSJ"
      }
    },
    {
      "cell_type": "code",
      "source": [
        "indexes_130_400=np.where((data[\"Pulse\"]>130) & (data[\"Calories\"]>400))\n",
        "print(indexes_130_400)"
      ],
      "metadata": {
        "colab": {
          "base_uri": "https://localhost:8080/"
        },
        "id": "uN2YJeOu5vn4",
        "outputId": "31319fb0-d9bd-4e1d-a81f-ed7fbd66af58"
      },
      "execution_count": 33,
      "outputs": [
        {
          "output_type": "stream",
          "name": "stdout",
          "text": [
            "(array([109, 144]),)\n"
          ]
        }
      ]
    },
    {
      "cell_type": "markdown",
      "source": [
        "**Q11: Create three Pandas series from numpyarray. Create three numpy arrays by selecting columns 2,3,4 from the dataset**"
      ],
      "metadata": {
        "id": "WH89aWz96nkc"
      }
    },
    {
      "cell_type": "markdown",
      "source": [
        "*Part 1. Create three Pandas series from numpyarray*"
      ],
      "metadata": {
        "id": "NIBQsu5AA1s8"
      }
    },
    {
      "cell_type": "code",
      "source": [
        "import pandas as pd\n",
        "\n",
        "\n",
        "\n",
        "#Indexes_100 is a tuple of arrays from np.where()\n",
        "indexes_100_array = np.array(indexes_100[0])  # Take only the first array, i.e., row indexes\n",
        "\n",
        "series1 = pd.Series(indexes_100_array)\n",
        "series2 = pd.Series(indexes_100_array + 10)  # Add 10 to each index\n",
        "series3 = pd.Series(indexes_100_array * 2)  # Multiply each index by 2\n",
        "\n",
        "\n",
        "print(series1)\n",
        "\n",
        "print(series2)\n",
        "\n",
        "print(series3)"
      ],
      "metadata": {
        "colab": {
          "base_uri": "https://localhost:8080/"
        },
        "id": "O1kLqFHd-WQR",
        "outputId": "76a8f801-8d54-4b91-a527-0312d6797485"
      },
      "execution_count": 40,
      "outputs": [
        {
          "output_type": "stream",
          "name": "stdout",
          "text": [
            "0      11\n",
            "1      16\n",
            "2      25\n",
            "3      28\n",
            "4      37\n",
            "5      38\n",
            "6      42\n",
            "7      72\n",
            "8      78\n",
            "9      79\n",
            "10     83\n",
            "11     84\n",
            "12     87\n",
            "13    113\n",
            "14    142\n",
            "15    157\n",
            "16    163\n",
            "dtype: int64\n",
            "0      21\n",
            "1      26\n",
            "2      35\n",
            "3      38\n",
            "4      47\n",
            "5      48\n",
            "6      52\n",
            "7      82\n",
            "8      88\n",
            "9      89\n",
            "10     93\n",
            "11     94\n",
            "12     97\n",
            "13    123\n",
            "14    152\n",
            "15    167\n",
            "16    173\n",
            "dtype: int64\n",
            "0      22\n",
            "1      32\n",
            "2      50\n",
            "3      56\n",
            "4      74\n",
            "5      76\n",
            "6      84\n",
            "7     144\n",
            "8     156\n",
            "9     158\n",
            "10    166\n",
            "11    168\n",
            "12    174\n",
            "13    226\n",
            "14    284\n",
            "15    314\n",
            "16    326\n",
            "dtype: int64\n"
          ]
        }
      ]
    },
    {
      "cell_type": "markdown",
      "source": [
        "*Part 2: Create three numpy arrays by selecting columns 2,3,4 from the dataset*"
      ],
      "metadata": {
        "id": "WKPl94n8CSrN"
      }
    },
    {
      "cell_type": "code",
      "source": [
        "import numpy as np\n",
        "\n",
        "numpy_array2 = data['Pulse']\n",
        "numpy_array3 = data['Maxpulse']\n",
        "numpy_array4 = data['Calories']\n",
        "\n",
        "\n",
        "print(f\"Column 2={numpy_array2}\\n\")\n",
        "\n",
        "print(f\"Column 3={numpy_array3}\\n\")\n",
        "\n",
        "print(f\"Column 4={numpy_array4}\\n\")"
      ],
      "metadata": {
        "colab": {
          "base_uri": "https://localhost:8080/"
        },
        "id": "JqBWN2ygCadl",
        "outputId": "3f35578a-c98e-44ed-ba71-3c1ac3f1e1c3"
      },
      "execution_count": 58,
      "outputs": [
        {
          "output_type": "stream",
          "name": "stdout",
          "text": [
            "Column 2=[110 117 103 109 117 102 110 104 109  98 103 100 106 104  98  98 100  90\n",
            " 103  97 108  -1 130 105 102 100  92 103 100 102  92  90 101  93 107 114\n",
            " 102 100 100 104  90  -1 100 111 111  99 109 111 108 111 107 123 106 118\n",
            " 136 121 118 115 153 123 108 110 109 118 110  90 105 107 106 108  97 109\n",
            " 100  97 114  98 105 110 100 100 159  -1 103 100 100 151 102 100 129  83\n",
            " 101 107  90  80 150 151  95 152 109  93  95  90  90  90  92  93  90  90\n",
            "  90 137 102 107 124 100 108 108 116  97 105 103 112  -1 119 107 111  98\n",
            "  97 109  99 114 104 107 103 106 103 136 117 115 113 141 108  97 100 122\n",
            " 136 106 107 112 103 110 106 109 109 150  -1 111  97 100 114  80  85  90\n",
            "  95 100 105 110 115 120 125]\n",
            "\n",
            "Column 3=[130 145 135 175 148 127 136 134 133 124 147 120 128 132 123 120 120 112\n",
            " 123 125 131 119 101 132 126 120 118 132 132 129 115 112 124 113 136 140\n",
            " 127 120 120 129 112 126 122 138 131 119 153 136 129 139 136 146 130 151\n",
            " 175 146 121 144 172 152 160 137 135 141 130 130 135 130 136 143 129 153\n",
            " 127  -1 146 125 134 141 130 131 182 169 139 130 120 170 136 157  -1 107\n",
            " 127 137 107 100 171 168 128 168 131 124 112 110 100 100 108 128 120 120\n",
            " 120 184 124 124 139 120 131 151 141 122 125 124 137 120 169 127 151 122\n",
            " 124 127 125 151 134 138 133 132  -1 156 143 137 138 162 135 127 120 149\n",
            " 170 126 136 146 127 150 134 129 138 167 128 151 131 120 150 120 120 130\n",
            "  -1 140 140 145 145 150 150]\n",
            "\n",
            "Column 4=[ 409.1  479.   340.   282.4  406.   300.   374.   253.3  195.1  269.\n",
            "  329.3  250.7  345.3  379.3  275.   215.2  300.     nan  323.   243.\n",
            "  364.2  282.   300.   246.   334.5  250.   241.     nan  280.   380.3\n",
            "  243.   180.1  299.   223.   361.   415.   300.   300.   300.   266.\n",
            "  180.1  286.   329.4  400.   397.   273.   387.6  300.   298.   397.6\n",
            "  380.2  643.1  263.   486.   238.   450.7  413.   305.   226.4  321.\n",
            " 1376.  1034.4  853.   341.   131.4  800.4  873.4  816.   110.4 1500.2\n",
            " 1115.   387.6  700.   953.2  304.   563.2  251.   300.   500.4 1729.\n",
            "  319.2  344.   151.1  500.   225.3  300.   234.  1000.1  242.    50.3\n",
            "  600.1    nan  105.3   50.5  127.4  229.4  128.2  244.2  188.2  604.1\n",
            "   77.7  500.   500.   500.4   92.7  124.   800.3   86.2  500.3 1860.4\n",
            "  325.2  275.   124.2  225.3  367.6  351.7  443.   277.4    nan  332.7\n",
            "  193.9  100.7  336.7  344.9  368.5  271.   275.3  382.   466.4  384.\n",
            "  342.5  357.5  335.   327.5  339.   189.   317.7  318.   308.   222.4\n",
            "  390.     nan  250.4  335.4  470.2  270.8  400.   361.9  185.   409.4\n",
            "  343.   353.2  374.   275.8  328.   368.5  270.4  270.4  382.8  240.9\n",
            "  250.4  260.4  270.   280.9  290.8  300.   310.2  320.4  330.4]\n",
            "\n"
          ]
        }
      ]
    },
    {
      "cell_type": "markdown",
      "source": [
        "**Q12: Create a new data frame, 'df,' from the pandas series created in Q11**."
      ],
      "metadata": {
        "id": "syFzIVIQO_hS"
      }
    },
    {
      "cell_type": "code",
      "source": [
        "# Create a new DataFrame\n",
        "df = pd.DataFrame({'Series 1': series1, 'Series 2': series2, 'Series 3': series3})\n",
        "#In this example, a new DataFrame named 'df' is created using the pd.DataFrame()\n",
        "\n",
        "df.head()"
      ],
      "metadata": {
        "colab": {
          "base_uri": "https://localhost:8080/",
          "height": 206
        },
        "id": "AiIbrOqiPFKT",
        "outputId": "22607cde-e4e7-404d-aae9-96221091641b"
      },
      "execution_count": 60,
      "outputs": [
        {
          "output_type": "execute_result",
          "data": {
            "text/plain": [
              "   Series 1  Series 2  Series 3\n",
              "0        11        21        22\n",
              "1        16        26        32\n",
              "2        25        35        50\n",
              "3        28        38        56\n",
              "4        37        47        74"
            ],
            "text/html": [
              "\n",
              "  <div id=\"df-a36ace4c-9848-4953-beef-38c57938a715\">\n",
              "    <div class=\"colab-df-container\">\n",
              "      <div>\n",
              "<style scoped>\n",
              "    .dataframe tbody tr th:only-of-type {\n",
              "        vertical-align: middle;\n",
              "    }\n",
              "\n",
              "    .dataframe tbody tr th {\n",
              "        vertical-align: top;\n",
              "    }\n",
              "\n",
              "    .dataframe thead th {\n",
              "        text-align: right;\n",
              "    }\n",
              "</style>\n",
              "<table border=\"1\" class=\"dataframe\">\n",
              "  <thead>\n",
              "    <tr style=\"text-align: right;\">\n",
              "      <th></th>\n",
              "      <th>Series 1</th>\n",
              "      <th>Series 2</th>\n",
              "      <th>Series 3</th>\n",
              "    </tr>\n",
              "  </thead>\n",
              "  <tbody>\n",
              "    <tr>\n",
              "      <th>0</th>\n",
              "      <td>11</td>\n",
              "      <td>21</td>\n",
              "      <td>22</td>\n",
              "    </tr>\n",
              "    <tr>\n",
              "      <th>1</th>\n",
              "      <td>16</td>\n",
              "      <td>26</td>\n",
              "      <td>32</td>\n",
              "    </tr>\n",
              "    <tr>\n",
              "      <th>2</th>\n",
              "      <td>25</td>\n",
              "      <td>35</td>\n",
              "      <td>50</td>\n",
              "    </tr>\n",
              "    <tr>\n",
              "      <th>3</th>\n",
              "      <td>28</td>\n",
              "      <td>38</td>\n",
              "      <td>56</td>\n",
              "    </tr>\n",
              "    <tr>\n",
              "      <th>4</th>\n",
              "      <td>37</td>\n",
              "      <td>47</td>\n",
              "      <td>74</td>\n",
              "    </tr>\n",
              "  </tbody>\n",
              "</table>\n",
              "</div>\n",
              "      <button class=\"colab-df-convert\" onclick=\"convertToInteractive('df-a36ace4c-9848-4953-beef-38c57938a715')\"\n",
              "              title=\"Convert this dataframe to an interactive table.\"\n",
              "              style=\"display:none;\">\n",
              "        \n",
              "  <svg xmlns=\"http://www.w3.org/2000/svg\" height=\"24px\"viewBox=\"0 0 24 24\"\n",
              "       width=\"24px\">\n",
              "    <path d=\"M0 0h24v24H0V0z\" fill=\"none\"/>\n",
              "    <path d=\"M18.56 5.44l.94 2.06.94-2.06 2.06-.94-2.06-.94-.94-2.06-.94 2.06-2.06.94zm-11 1L8.5 8.5l.94-2.06 2.06-.94-2.06-.94L8.5 2.5l-.94 2.06-2.06.94zm10 10l.94 2.06.94-2.06 2.06-.94-2.06-.94-.94-2.06-.94 2.06-2.06.94z\"/><path d=\"M17.41 7.96l-1.37-1.37c-.4-.4-.92-.59-1.43-.59-.52 0-1.04.2-1.43.59L10.3 9.45l-7.72 7.72c-.78.78-.78 2.05 0 2.83L4 21.41c.39.39.9.59 1.41.59.51 0 1.02-.2 1.41-.59l7.78-7.78 2.81-2.81c.8-.78.8-2.07 0-2.86zM5.41 20L4 18.59l7.72-7.72 1.47 1.35L5.41 20z\"/>\n",
              "  </svg>\n",
              "      </button>\n",
              "      \n",
              "  <style>\n",
              "    .colab-df-container {\n",
              "      display:flex;\n",
              "      flex-wrap:wrap;\n",
              "      gap: 12px;\n",
              "    }\n",
              "\n",
              "    .colab-df-convert {\n",
              "      background-color: #E8F0FE;\n",
              "      border: none;\n",
              "      border-radius: 50%;\n",
              "      cursor: pointer;\n",
              "      display: none;\n",
              "      fill: #1967D2;\n",
              "      height: 32px;\n",
              "      padding: 0 0 0 0;\n",
              "      width: 32px;\n",
              "    }\n",
              "\n",
              "    .colab-df-convert:hover {\n",
              "      background-color: #E2EBFA;\n",
              "      box-shadow: 0px 1px 2px rgba(60, 64, 67, 0.3), 0px 1px 3px 1px rgba(60, 64, 67, 0.15);\n",
              "      fill: #174EA6;\n",
              "    }\n",
              "\n",
              "    [theme=dark] .colab-df-convert {\n",
              "      background-color: #3B4455;\n",
              "      fill: #D2E3FC;\n",
              "    }\n",
              "\n",
              "    [theme=dark] .colab-df-convert:hover {\n",
              "      background-color: #434B5C;\n",
              "      box-shadow: 0px 1px 3px 1px rgba(0, 0, 0, 0.15);\n",
              "      filter: drop-shadow(0px 1px 2px rgba(0, 0, 0, 0.3));\n",
              "      fill: #FFFFFF;\n",
              "    }\n",
              "  </style>\n",
              "\n",
              "      <script>\n",
              "        const buttonEl =\n",
              "          document.querySelector('#df-a36ace4c-9848-4953-beef-38c57938a715 button.colab-df-convert');\n",
              "        buttonEl.style.display =\n",
              "          google.colab.kernel.accessAllowed ? 'block' : 'none';\n",
              "\n",
              "        async function convertToInteractive(key) {\n",
              "          const element = document.querySelector('#df-a36ace4c-9848-4953-beef-38c57938a715');\n",
              "          const dataTable =\n",
              "            await google.colab.kernel.invokeFunction('convertToInteractive',\n",
              "                                                     [key], {});\n",
              "          if (!dataTable) return;\n",
              "\n",
              "          const docLinkHtml = 'Like what you see? Visit the ' +\n",
              "            '<a target=\"_blank\" href=https://colab.research.google.com/notebooks/data_table.ipynb>data table notebook</a>'\n",
              "            + ' to learn more about interactive tables.';\n",
              "          element.innerHTML = '';\n",
              "          dataTable['output_type'] = 'display_data';\n",
              "          await google.colab.output.renderOutput(dataTable, element);\n",
              "          const docLink = document.createElement('div');\n",
              "          docLink.innerHTML = docLinkHtml;\n",
              "          element.appendChild(docLink);\n",
              "        }\n",
              "      </script>\n",
              "    </div>\n",
              "  </div>\n",
              "  "
            ]
          },
          "metadata": {},
          "execution_count": 60
        }
      ]
    }
  ]
}